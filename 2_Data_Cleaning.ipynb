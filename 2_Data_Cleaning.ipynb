{
  "nbformat": 4,
  "nbformat_minor": 0,
  "metadata": {
    "colab": {
      "provenance": []
    },
    "kernelspec": {
      "name": "python3",
      "display_name": "Python 3"
    },
    "language_info": {
      "name": "python"
    }
  },
  "cells": [
    {
      "cell_type": "code",
      "source": [
        "pip install neattext"
      ],
      "metadata": {
        "id": "5m2FTVt3rXHS"
      },
      "execution_count": null,
      "outputs": []
    },
    {
      "cell_type": "code",
      "execution_count": null,
      "metadata": {
        "id": "92IcCIxAqv2t"
      },
      "outputs": [],
      "source": [
        "import neattext.functions as nfx\n",
        "import pandas as pd \n",
        "\n",
        "# Read The Dataset\n",
        "data = pd.read_csv('earthquake_dataset.csv')\n",
        "\n",
        "# Select the desired column from the dataset\n",
        "tweet_text = data['Tweet']\n",
        "\n",
        "# Preprocessing -- Data Cleaning \n",
        "# Remove Hashtags\n",
        "clean_tweet = tweet_text.apply(nfx.remove_hashtags)\n",
        "#Remove Users\n",
        "clean_tweet = clean_tweet.apply(lambda x: nfx.remove_userhandles(x))\n",
        "#Remove Multiple Spaces\n",
        "clean_tweet = clean_tweet.apply(nfx.remove_multiple_spaces)\n",
        "#Remove URLs\n",
        "clean_tweet = clean_tweet.apply(nfx.remove_urls)\n",
        "#Remove Special Characters\n",
        "clean_tweet = clean_tweet.apply(nfx.remove_puncts)\n",
        "clean_tweet = clean_tweet.apply(nfx.remove_emojis)\n",
        "clean_tweet = clean_tweet.apply(nfx.remove_special_characters)\n",
        "clean_tweet = clean_tweet.apply(nfx.remove_punctuations)\n",
        "#Remove Dates\n",
        "clean_tweet = clean_tweet.apply(nfx.remove_dates)\n",
        "#Remove Emails and Phone numbers\n",
        "clean_tweet = clean_tweet.apply(nfx.remove_emails)\n",
        "clean_tweet = clean_tweet.apply(nfx.remove_phone_numbers)\n",
        "\n",
        "clean_tweet.to_csv('after_pre.csv')\n",
        "print('Done')\n"
      ]
    }
  ]
}