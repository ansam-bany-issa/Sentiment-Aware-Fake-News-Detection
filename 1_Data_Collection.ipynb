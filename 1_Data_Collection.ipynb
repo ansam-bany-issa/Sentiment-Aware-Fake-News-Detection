{
  "nbformat": 4,
  "nbformat_minor": 0,
  "metadata": {
    "colab": {
      "provenance": []
    },
    "kernelspec": {
      "name": "python3",
      "display_name": "Python 3"
    },
    "language_info": {
      "name": "python"
    }
  },
  "cells": [
    {
      "cell_type": "code",
      "source": [
        "pip install snscrape"
      ],
      "metadata": {
        "id": "8hyfIX2JjTJf"
      },
      "execution_count": null,
      "outputs": []
    },
    {
      "cell_type": "code",
      "source": [
        "import snscrape.modules.twitter as sntwitter\n",
        "import pandas as pd \n",
        "\n",
        "query = \"(#earthquake_Syria OR #earthquake_Turkey OR #turkeyearthquake2023 OR #syriaearthquake OR #earthquakehatay OR #earthquake_turkey OR #earthquaketurkey)  lang:en  since:2023-02-06 \"\n",
        "tweets = [] \n",
        "limits = 100000\n",
        "\n",
        "for tweet in sntwitter.TwitterSearchScraper(query).get_items(): \n",
        "    if len(tweets)==limits: \n",
        "        break \n",
        "    else: tweets.append([tweet.date,tweet.user.location,tweet.content]) \n",
        "\n",
        "pf = pd.DataFrame(tweets, columns=['Date', 'Location','Tweet']) \n",
        "\n",
        "pf.to_csv('earthquake_dataset.csv')\n"
      ],
      "metadata": {
        "id": "tS9znMZrkPDj"
      },
      "execution_count": null,
      "outputs": []
    }
  ]
}