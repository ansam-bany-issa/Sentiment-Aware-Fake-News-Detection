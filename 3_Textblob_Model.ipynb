{
  "nbformat": 4,
  "nbformat_minor": 0,
  "metadata": {
    "colab": {
      "provenance": []
    },
    "kernelspec": {
      "name": "python3",
      "display_name": "Python 3"
    },
    "language_info": {
      "name": "python"
    }
  },
  "cells": [
    {
      "cell_type": "code",
      "source": [
        "pip install textblob"
      ],
      "metadata": {
        "id": "5m2FTVt3rXHS"
      },
      "execution_count": null,
      "outputs": []
    },
    {
      "cell_type": "code",
      "execution_count": null,
      "metadata": {
        "id": "92IcCIxAqv2t"
      },
      "outputs": [],
      "source": [
        "import pandas as pd \n",
        "from textblob import TextBlob\n",
        "\n",
        "# Read the dataset\n",
        "data = pd.read_csv('after_pre.csv') \n",
        "\n",
        "# Define the function to classify the data\n",
        "def get_sentiment(data):\n",
        "    blob = TextBlob(data)\n",
        "    sentiment_polarity = blob.sentiment.polarity\n",
        "    sentiment_subjectivity = blob.sentiment.subjectivity\n",
        "    if sentiment_polarity > 0:\n",
        "        sentiment_label = 'positive'\n",
        "    else sentiment_polarity < 0:\n",
        "        sentiment_label = 'negative'\n",
        "    else:  \n",
        "        sentiment_label = 'neutral'\n",
        "    result = {'polarity':sentiment_polarity,\n",
        "              'subjectivity':sentiment_subjectivity,\n",
        "              'sentiment':sentiment_label}\n",
        "    return result\n",
        "\n",
        "# Apply the function to the dataset and save the results in a CSV file\n",
        "sentiment_results = data.apply(lambda row: pd.Series(get_sentiment(row['Tweet'])), axis=1)\n",
        "\n",
        "# Merge the results with the original dataset\n",
        "data = pd.concat([data, sentiment_results], axis=1)\n",
        "\n",
        "# Save the merged dataset in a CSV file\n",
        "data.to_csv('sentiment_data.csv', index=False)\n",
        "\n",
        "print('Done')\n"
      ]
    }
  ]
}